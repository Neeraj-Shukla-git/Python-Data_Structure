{
  "nbformat": 4,
  "nbformat_minor": 0,
  "metadata": {
    "colab": {
      "provenance": []
    },
    "kernelspec": {
      "name": "python3",
      "display_name": "Python 3"
    },
    "language_info": {
      "name": "python"
    }
  },
  "cells": [
    {
      "cell_type": "markdown",
      "source": [
        "**Data Types and Structures Questions**"
      ],
      "metadata": {
        "id": "YsZGXKjgf8Nv"
      }
    },
    {
      "cell_type": "markdown",
      "source": [
        "1. What are data structures, and why are they important?\n",
        "   - Data Strucures: Data Structues are ways of organizing and storing data so\n",
        "     that can be accessed and worked with efficiently.\n",
        "   - They are important because Efficiency, Scalability, Clean Code, Problem\n",
        "     Solving, Real-World Applications."
      ],
      "metadata": {
        "id": "VIk5NXMlf_oX"
      }
    },
    {
      "cell_type": "markdown",
      "source": [
        "2. Explain the difference between mutable and immutable data types with\n",
        "   examples?\n",
        "   - Mutable data type: Mutable data type are those data type we can change\n",
        "     after we created.\n",
        "   - Example: list, dictionary, set.\n",
        "   - Immutable data type: Immutable data type are those data type we can not\n",
        "     change after we created.\n",
        "   - Example: tuple, string."
      ],
      "metadata": {
        "id": "AFVrUGDmhg_z"
      }
    },
    {
      "cell_type": "markdown",
      "source": [
        "3. What are the main differences between lists and tuples in Python?\n",
        "   - Lists is mutable.\n",
        "   - Tuples ia immutable."
      ],
      "metadata": {
        "id": "HWIJc92Zi289"
      }
    },
    {
      "cell_type": "markdown",
      "source": [
        "4. Describe how dictionaries store data?\n",
        "   - Dictionaries Store data in a Keys - Values Pair."
      ],
      "metadata": {
        "id": "DnGgRhTljODB"
      }
    },
    {
      "cell_type": "markdown",
      "source": [
        "5. Why might you use a set instead of a list in Python?\n",
        "   - because of Set is Faster Membership Testing, Automatic Deduplication,\n",
        "     Efficient Set Operations, Optimized for Unordered Unique Data."
      ],
      "metadata": {
        "id": "mok7zcmMjpDQ"
      }
    },
    {
      "cell_type": "markdown",
      "source": [
        "6. What is a string in Python, and how is it different from a list?\n",
        "   - String is an immutable sequence of Unicode characters.\n",
        "   - String write as inside the Single (' '), Double(\" \"), or Triple quotes('''\n",
        "     ''').\n",
        "   - List is a mutable, ordered, collection of items, where numbers, strings\n",
        "     etc."
      ],
      "metadata": {
        "id": "pyE-V0LHkVkd"
      }
    },
    {
      "cell_type": "markdown",
      "source": [
        "7.  How do tuples ensure data integrity in Python?\n",
        "    - Tuple in python ensure data integrity primarily through their\n",
        "      immutability. Once a tuple created, its elements can't be modified."
      ],
      "metadata": {
        "id": "NaDrz9EKnR0K"
      }
    },
    {
      "cell_type": "markdown",
      "source": [
        "8. What is a hash table, and how does it relate to dictionaries in Python?\n",
        "   - A hash table is a data structure that implemented an associative array,\n",
        "     mapping keys to values for efficient data retrieval.\n",
        "   - In Python, a dictionary is a built-in data structure that is implemented  \n",
        "     using a hash table under the hood."
      ],
      "metadata": {
        "id": "AQm5WOaNxJ4e"
      }
    },
    {
      "cell_type": "markdown",
      "source": [
        "9. Can lists contain different data types in Python ?\n",
        "   - Yes, Lists contain different data types in python i.e String, integer,\n",
        "     float, boolean.\n",
        "  "
      ],
      "metadata": {
        "id": "tlWeJmXMxT6H"
      }
    },
    {
      "cell_type": "markdown",
      "source": [
        "10. Explain why strings are immutable in Python?\n",
        "    - String in Python are immutable, meaning their contents cannot be changed\n",
        "      after they are created.\n",
        "    - Consistency with Hashability.\n",
        "    - Data integrity and Safety.\n",
        "    - Performance Optimization."
      ],
      "metadata": {
        "id": "1WUKWqnexhL3"
      }
    },
    {
      "cell_type": "markdown",
      "source": [
        "11. What advantages do dictionaries offer over lists for certain tasks?\n",
        "    - Dictionaries and lists in python are both versatile data Structure, but\n",
        "      dictionaries offer advantages over lists for certain tasks due to their key-value structure and hash table implementation."
      ],
      "metadata": {
        "id": "YQ3Q7N9_xoZJ"
      }
    },
    {
      "cell_type": "markdown",
      "source": [
        "12. Describe a scenario where using a tuple would be preferable over a list?\n",
        "    - Create a aadhar card data.\n",
        "    - Create a high school result."
      ],
      "metadata": {
        "id": "bYLXIAUIx9ZJ"
      }
    },
    {
      "cell_type": "markdown",
      "source": [
        "13. How do sets handle duplicate values in Python?\n",
        "    - In python sets are unordered collections of unique, hashable elements.\n",
        "      They automatically handle duplicate values."
      ],
      "metadata": {
        "id": "NNBxLLmOxyxB"
      }
    },
    {
      "cell_type": "markdown",
      "source": [
        "14. How does the “in” keyword work differently for lists and dictionaries?\n",
        "    - \"in\" keyword checks is a value is present in the list by comparing it\n",
        "      against each element in the list.\n",
        "    - \"in\" keywords checks if a key exists in the dictionary, not a value\n",
        "      (unless explicity checking values with dict.values())."
      ],
      "metadata": {
        "id": "zRz8TcVUyGi_"
      }
    },
    {
      "cell_type": "markdown",
      "source": [
        "15. Can you modify the elements of a tuple? Explain why or why not?\n",
        "    - No, We do not modify the elements of a tuple because tuple is a immutable."
      ],
      "metadata": {
        "id": "TiS6zkmRyMJq"
      }
    },
    {
      "cell_type": "markdown",
      "source": [
        "16. What is a nested dictionary, and give an example of its use case?\n",
        "    - A nested dictionary in python is a dictionary that contains one or more\n",
        "      dictionaries as values for its keys."
      ],
      "metadata": {
        "id": "s2X_C4zUyTZg"
      }
    },
    {
      "cell_type": "code",
      "source": [
        "# Example\n",
        "dict = {\"a\": {\"name\" : \"Neeraj\", \"age\" : 24},\n",
        "        \"b\": {\"fruit\" : \"Apple\", \"Vegetable\" : \"Mango\"}\n",
        "}\n",
        "print(dict)"
      ],
      "metadata": {
        "colab": {
          "base_uri": "https://localhost:8080/"
        },
        "id": "5SAU6LSD5U6y",
        "outputId": "0c8ab271-972b-4973-a682-fe4cc2a9689c"
      },
      "execution_count": 68,
      "outputs": [
        {
          "output_type": "stream",
          "name": "stdout",
          "text": [
            "{'a': {'name': 'Neeraj', 'age': 24}, 'b': {'fruit': 'Apple', 'Vegetable': 'Mango'}}\n"
          ]
        }
      ]
    },
    {
      "cell_type": "markdown",
      "source": [
        "17. Describe the time complexity of accessing elements in a dictionary.\n",
        "    - The Time complexity of accessing an element in a python dictionaries is O\n",
        "      (1) in the averag case O(n) in the wrost case."
      ],
      "metadata": {
        "id": "1h5m6OVNy8Qg"
      }
    },
    {
      "cell_type": "markdown",
      "source": [
        "18. In what situations are lists preferred over dictionaries?\n",
        "    - They are often less preferred than dictionaries in situations where fast\n",
        "      key - based access, unique key - value mappings, or hierarchical data organization are required."
      ],
      "metadata": {
        "id": "B0oUolo7yl6C"
      }
    },
    {
      "cell_type": "markdown",
      "source": [
        "19. Why are dictionaries considered unordered, and how does that affect data\n",
        "   retrieval?\n",
        "    - In Python, dictionaries are considered ordered since Python 3.7.\n",
        "    - Hash Table Implementation\n",
        "    - data retrival in dictionaries involves accessing values by keys.\n",
        "  "
      ],
      "metadata": {
        "id": "M4NvQqgKyq-D"
      }
    },
    {
      "cell_type": "markdown",
      "source": [
        "20. Explain the difference between a list and a dictionary in terms of data\n",
        "  retrieval.\n",
        "    - Lists retrived by integer index.\n",
        "    - Dictionary retrived by keys."
      ],
      "metadata": {
        "id": "EyqvPUnPzKRI"
      }
    },
    {
      "cell_type": "markdown",
      "source": [
        "**Practical Questions**"
      ],
      "metadata": {
        "id": "bSOYSni0ltfB"
      }
    },
    {
      "cell_type": "markdown",
      "source": [
        "1. Write a code to create a string with your name and print it?"
      ],
      "metadata": {
        "id": "Tsz7EN5ql4nj"
      }
    },
    {
      "cell_type": "code",
      "source": [
        "my_name = \"Neeraj Shukla\"\n",
        "print(my_name)\n",
        "print(type(my_name))"
      ],
      "metadata": {
        "colab": {
          "base_uri": "https://localhost:8080/"
        },
        "id": "j_dlaPcTl-Vu",
        "outputId": "280e5760-d394-4e9c-887f-4a003eeab882"
      },
      "execution_count": 33,
      "outputs": [
        {
          "output_type": "stream",
          "name": "stdout",
          "text": [
            "Neeraj Shukla\n",
            "<class 'str'>\n"
          ]
        }
      ]
    },
    {
      "cell_type": "markdown",
      "source": [
        "2. Write a code to find the length of the string \"Hello World\"."
      ],
      "metadata": {
        "id": "GfDIJzSWm9dd"
      }
    },
    {
      "cell_type": "code",
      "source": [
        "leng = \"Hello World\"\n",
        "print(leng)\n",
        "print(len(leng))"
      ],
      "metadata": {
        "colab": {
          "base_uri": "https://localhost:8080/"
        },
        "id": "enFkyYa9m_4x",
        "outputId": "17a0f6b2-e210-4b04-e9a1-8a0a2ccc8b8a"
      },
      "execution_count": 34,
      "outputs": [
        {
          "output_type": "stream",
          "name": "stdout",
          "text": [
            "Hello World\n",
            "11\n"
          ]
        }
      ]
    },
    {
      "cell_type": "markdown",
      "source": [
        "3. Write a code to slice the first 3 characters from the string \"Python\n",
        "   Programming\""
      ],
      "metadata": {
        "id": "7qRC5mQ-nI7w"
      }
    },
    {
      "cell_type": "code",
      "source": [
        "sli = \"Python Programming\"\n",
        "print(sli)\n",
        "print(sli[0:3])"
      ],
      "metadata": {
        "colab": {
          "base_uri": "https://localhost:8080/"
        },
        "id": "Kbfczc72ncG2",
        "outputId": "36869c3a-5569-448d-a7a4-680b517d2142"
      },
      "execution_count": 35,
      "outputs": [
        {
          "output_type": "stream",
          "name": "stdout",
          "text": [
            "Python Programming\n",
            "Pyt\n"
          ]
        }
      ]
    },
    {
      "cell_type": "markdown",
      "source": [
        "4. Write a code to convert the string \"hello\" to uppercase."
      ],
      "metadata": {
        "id": "cnQTDd8nnqkN"
      }
    },
    {
      "cell_type": "code",
      "source": [
        "upp = \"hello\"\n",
        "print(upp)\n",
        "print(upp.upper())"
      ],
      "metadata": {
        "colab": {
          "base_uri": "https://localhost:8080/"
        },
        "id": "uKd4GPh1pKx4",
        "outputId": "bdc262f7-6bd2-47bb-d2bd-292f6c7479f4"
      },
      "execution_count": 36,
      "outputs": [
        {
          "output_type": "stream",
          "name": "stdout",
          "text": [
            "hello\n",
            "HELLO\n"
          ]
        }
      ]
    },
    {
      "cell_type": "markdown",
      "source": [
        "5. Write a code to replace the word \"apple\" with \"orange\" in the string \"I like apple\""
      ],
      "metadata": {
        "id": "39I0ignFnsqe"
      }
    },
    {
      "cell_type": "code",
      "source": [
        "a = \"I like apple\"\n",
        "print(a)\n",
        "print(a.replace(\"apple\", \"orange\"))"
      ],
      "metadata": {
        "colab": {
          "base_uri": "https://localhost:8080/"
        },
        "id": "fDW-Qxb6pTt5",
        "outputId": "87f1893b-8560-46ce-e3e7-8c63ad9ab35c"
      },
      "execution_count": 37,
      "outputs": [
        {
          "output_type": "stream",
          "name": "stdout",
          "text": [
            "I like apple\n",
            "I like orange\n"
          ]
        }
      ]
    },
    {
      "cell_type": "markdown",
      "source": [
        "6. Write a code to create a list with numbers 1 to 5 and print it.\n",
        "\n"
      ],
      "metadata": {
        "id": "j4oL432hn68b"
      }
    },
    {
      "cell_type": "code",
      "source": [
        "l = [1, 2, 3, 4, 5]\n",
        "print(l)\n",
        "print(type(l))"
      ],
      "metadata": {
        "colab": {
          "base_uri": "https://localhost:8080/"
        },
        "id": "2V27t_Tupdsh",
        "outputId": "b6c32598-9c1c-4802-8f76-ad4ee6bacc2c"
      },
      "execution_count": 38,
      "outputs": [
        {
          "output_type": "stream",
          "name": "stdout",
          "text": [
            "[1, 2, 3, 4, 5]\n",
            "<class 'list'>\n"
          ]
        }
      ]
    },
    {
      "cell_type": "markdown",
      "source": [
        "7. Write a code to append the number 10 to the list [1, 2, 3, 4].\n"
      ],
      "metadata": {
        "id": "rK5_-RUKn9i6"
      }
    },
    {
      "cell_type": "code",
      "source": [
        "l1 = [1, 2, 3, 4]\n",
        "print(l1)\n",
        "l1.append(10)\n",
        "print(l1)"
      ],
      "metadata": {
        "colab": {
          "base_uri": "https://localhost:8080/"
        },
        "id": "JlLABBhXpa_N",
        "outputId": "61c4ea82-a1b2-4a32-d3b7-932becb54000"
      },
      "execution_count": 39,
      "outputs": [
        {
          "output_type": "stream",
          "name": "stdout",
          "text": [
            "[1, 2, 3, 4]\n",
            "[1, 2, 3, 4, 10]\n"
          ]
        }
      ]
    },
    {
      "cell_type": "markdown",
      "source": [
        "8. Write a code to remove the number 3 from the list [1, 2, 3, 4, 5]."
      ],
      "metadata": {
        "id": "qhQC5zz7n-wI"
      }
    },
    {
      "cell_type": "code",
      "source": [
        "l2 = [1, 2, 3, 4, 5]\n",
        "print(l2)\n",
        "l2.remove(3)\n",
        "print(l2)"
      ],
      "metadata": {
        "colab": {
          "base_uri": "https://localhost:8080/"
        },
        "id": "cQrILrpopneB",
        "outputId": "d437a826-ee97-461e-e873-409792005eb4"
      },
      "execution_count": 40,
      "outputs": [
        {
          "output_type": "stream",
          "name": "stdout",
          "text": [
            "[1, 2, 3, 4, 5]\n",
            "[1, 2, 4, 5]\n"
          ]
        }
      ]
    },
    {
      "cell_type": "markdown",
      "source": [
        "9. Write a code to access the second element in the list ['a', 'b', 'c', 'd'].\n"
      ],
      "metadata": {
        "id": "I4oui_LEoTDK"
      }
    },
    {
      "cell_type": "code",
      "source": [
        "l3 = [\"a\", \"b\", \"c\", \"d\"]\n",
        "print(l3)\n",
        "print(l3[1])"
      ],
      "metadata": {
        "colab": {
          "base_uri": "https://localhost:8080/"
        },
        "id": "GMFl4_lspqUH",
        "outputId": "2f5837b3-5d8d-4793-91ab-e4f67cef83bc"
      },
      "execution_count": 41,
      "outputs": [
        {
          "output_type": "stream",
          "name": "stdout",
          "text": [
            "['a', 'b', 'c', 'd']\n",
            "b\n"
          ]
        }
      ]
    },
    {
      "cell_type": "markdown",
      "source": [
        "10. Write a code to reverse the list [10, 20, 30, 40, 50]."
      ],
      "metadata": {
        "id": "1mrSwQB3ouVu"
      }
    },
    {
      "cell_type": "code",
      "source": [
        "l4 = [10, 20, 30, 40, 50]\n",
        "print(l4)\n",
        "l4.reverse()\n",
        "print(l4)"
      ],
      "metadata": {
        "colab": {
          "base_uri": "https://localhost:8080/"
        },
        "id": "W0DF7O58p0ZS",
        "outputId": "e533f3a5-8b16-4a83-9fac-d09164f0ef50"
      },
      "execution_count": 42,
      "outputs": [
        {
          "output_type": "stream",
          "name": "stdout",
          "text": [
            "[10, 20, 30, 40, 50]\n",
            "[50, 40, 30, 20, 10]\n"
          ]
        }
      ]
    },
    {
      "cell_type": "markdown",
      "source": [
        "11. Write a code to create a tuple with the elements 100, 200, 300 and print it."
      ],
      "metadata": {
        "id": "d1utJ974oym5"
      }
    },
    {
      "cell_type": "code",
      "source": [
        "t = (100, 200, 300)\n",
        "print(t)\n",
        "print(type(t))"
      ],
      "metadata": {
        "colab": {
          "base_uri": "https://localhost:8080/"
        },
        "id": "AFPAyHFAqCQu",
        "outputId": "f56d0f35-a210-4684-e4c8-0a5ee9cdddcf"
      },
      "execution_count": 43,
      "outputs": [
        {
          "output_type": "stream",
          "name": "stdout",
          "text": [
            "(100, 200, 300)\n",
            "<class 'tuple'>\n"
          ]
        }
      ]
    },
    {
      "cell_type": "markdown",
      "source": [
        "12. Write a code to access the second-to-last element of the tuple ('red', 'green', 'blue', 'yellow')."
      ],
      "metadata": {
        "id": "iVOMoqi_o5hj"
      }
    },
    {
      "cell_type": "code",
      "source": [
        "t1 = (\"red\", \"green\", \"blue\", \"yellow\")\n",
        "print(t1)\n",
        "print(t1[-2])"
      ],
      "metadata": {
        "colab": {
          "base_uri": "https://localhost:8080/"
        },
        "id": "UO4HoFCgqFej",
        "outputId": "cd404bff-4168-4f22-c1b0-b55487087f3b"
      },
      "execution_count": 44,
      "outputs": [
        {
          "output_type": "stream",
          "name": "stdout",
          "text": [
            "('red', 'green', 'blue', 'yellow')\n",
            "blue\n"
          ]
        }
      ]
    },
    {
      "cell_type": "markdown",
      "source": [
        "13. Write a code to find the minimum number in the tuple (10, 20, 5, 15)."
      ],
      "metadata": {
        "id": "AC-_gpwrpBBO"
      }
    },
    {
      "cell_type": "code",
      "source": [
        "t2 = (10, 20, 5, 15)\n",
        "print(t2)\n",
        "print(min(t2))"
      ],
      "metadata": {
        "colab": {
          "base_uri": "https://localhost:8080/"
        },
        "id": "lN1JS6LHqEym",
        "outputId": "71c23a5f-3099-499e-d155-dc4de44fe5c8"
      },
      "execution_count": 45,
      "outputs": [
        {
          "output_type": "stream",
          "name": "stdout",
          "text": [
            "(10, 20, 5, 15)\n",
            "5\n"
          ]
        }
      ]
    },
    {
      "cell_type": "markdown",
      "source": [
        " 14. Write a code to find the index of the element \"cat\" in the tuple ('dog', 'cat', 'rabbit').\n"
      ],
      "metadata": {
        "id": "TJw8FI6brWDH"
      }
    },
    {
      "cell_type": "code",
      "source": [
        "t3 = (\"dog\", \"cat\", \"rabbit\")\n",
        "print(t3)\n",
        "print(t3.index(\"cat\"))"
      ],
      "metadata": {
        "colab": {
          "base_uri": "https://localhost:8080/"
        },
        "id": "VcF9SVwos-EX",
        "outputId": "5c5bd7cd-27a4-4338-8852-2556f8818f02"
      },
      "execution_count": 46,
      "outputs": [
        {
          "output_type": "stream",
          "name": "stdout",
          "text": [
            "('dog', 'cat', 'rabbit')\n",
            "1\n"
          ]
        }
      ]
    },
    {
      "cell_type": "markdown",
      "source": [
        " 15. Write a code to create a tuple containing three different fruits and check if \"kiwi\" is in it."
      ],
      "metadata": {
        "id": "VkCnkwEarYVW"
      }
    },
    {
      "cell_type": "code",
      "source": [
        "t4 = (\"apple\", \"mango\", \"kiwi\")\n",
        "for i in t4:\n",
        "    if(i == \"kiwi\"):\n",
        "        print(\"kiwi is present\")"
      ],
      "metadata": {
        "colab": {
          "base_uri": "https://localhost:8080/"
        },
        "id": "nvHnrRuXtD5X",
        "outputId": "6b2d2030-6133-46a7-e307-606b2390c3ac"
      },
      "execution_count": 47,
      "outputs": [
        {
          "output_type": "stream",
          "name": "stdout",
          "text": [
            "kiwi is present\n"
          ]
        }
      ]
    },
    {
      "cell_type": "markdown",
      "source": [
        "16. Write a code to create a set with the elements 'a', 'b', 'c' and print it.\n"
      ],
      "metadata": {
        "id": "Lo6gxUc8rc35"
      }
    },
    {
      "cell_type": "code",
      "source": [
        "s = {\"a\", \"b\", \"c\"}\n",
        "print(s)\n",
        "print(type(s))"
      ],
      "metadata": {
        "colab": {
          "base_uri": "https://localhost:8080/"
        },
        "id": "Nil0oHavtJtK",
        "outputId": "b9d6f6b3-0cc0-4fe7-ce35-2e00cb6f4d4b"
      },
      "execution_count": 48,
      "outputs": [
        {
          "output_type": "stream",
          "name": "stdout",
          "text": [
            "{'a', 'b', 'c'}\n",
            "<class 'set'>\n"
          ]
        }
      ]
    },
    {
      "cell_type": "markdown",
      "source": [
        " 17. Write a code to clear all elements from the set {1, 2, 3, 4, 5}."
      ],
      "metadata": {
        "id": "JnGQuycyriDc"
      }
    },
    {
      "cell_type": "code",
      "source": [
        "s1 = {1, 2, 3, 4, 5}\n",
        "print(s1)\n",
        "s1.clear()\n",
        "print(s1)"
      ],
      "metadata": {
        "colab": {
          "base_uri": "https://localhost:8080/"
        },
        "id": "ZsqQsp3etXyH",
        "outputId": "60ee4aaa-1002-42b8-8c9b-0f46d74eecf2"
      },
      "execution_count": 49,
      "outputs": [
        {
          "output_type": "stream",
          "name": "stdout",
          "text": [
            "{1, 2, 3, 4, 5}\n",
            "set()\n"
          ]
        }
      ]
    },
    {
      "cell_type": "markdown",
      "source": [
        " 18. Write a code to remove the element 4 from the set {1, 2, 3, 4}."
      ],
      "metadata": {
        "id": "QsyfhOSsrl6h"
      }
    },
    {
      "cell_type": "code",
      "source": [
        "s2 = {1, 2, 3, 4}\n",
        "print(s2)\n",
        "s2.remove(4)\n",
        "print(s2)"
      ],
      "metadata": {
        "colab": {
          "base_uri": "https://localhost:8080/"
        },
        "id": "n7BIYwlptgMR",
        "outputId": "6146d36f-d831-406a-cbe2-0dd519d71f79"
      },
      "execution_count": 50,
      "outputs": [
        {
          "output_type": "stream",
          "name": "stdout",
          "text": [
            "{1, 2, 3, 4}\n",
            "{1, 2, 3}\n"
          ]
        }
      ]
    },
    {
      "cell_type": "markdown",
      "source": [
        " 19. Write a code to find the union of two sets {1, 2, 3} and {3, 4, 5}.\n"
      ],
      "metadata": {
        "id": "xbEMyYvprpjW"
      }
    },
    {
      "cell_type": "code",
      "source": [
        "s3 = {1, 2, 3}\n",
        "s4 = {3, 4, 5}\n",
        "print(s3)\n",
        "print(s4)\n",
        "print(s3 | s4)"
      ],
      "metadata": {
        "colab": {
          "base_uri": "https://localhost:8080/"
        },
        "id": "qLr8EXwztmc7",
        "outputId": "4a31d8fe-8de7-45b7-f80d-3417b6425978"
      },
      "execution_count": 51,
      "outputs": [
        {
          "output_type": "stream",
          "name": "stdout",
          "text": [
            "{1, 2, 3}\n",
            "{3, 4, 5}\n",
            "{1, 2, 3, 4, 5}\n"
          ]
        }
      ]
    },
    {
      "cell_type": "markdown",
      "source": [
        " 20. Write a code to find the intersection of two sets {1, 2, 3} and {2, 3, 4}.\n"
      ],
      "metadata": {
        "id": "WyqQL0gtruP4"
      }
    },
    {
      "cell_type": "code",
      "source": [
        "s5 = {1, 2, 3}\n",
        "s6 = {3, 4, 5}\n",
        "print(s5)\n",
        "print(s6)\n",
        "print(s5 & s6)"
      ],
      "metadata": {
        "colab": {
          "base_uri": "https://localhost:8080/"
        },
        "id": "UrEcTXm9tuiZ",
        "outputId": "92c332eb-7a72-49a9-b550-e38314a97ff8"
      },
      "execution_count": 52,
      "outputs": [
        {
          "output_type": "stream",
          "name": "stdout",
          "text": [
            "{1, 2, 3}\n",
            "{3, 4, 5}\n",
            "{3}\n"
          ]
        }
      ]
    },
    {
      "cell_type": "markdown",
      "source": [
        " 21. Write a code to create a dictionary with the keys \"name\", \"age\", and \"city\", and print it.\n"
      ],
      "metadata": {
        "id": "mOv_QOA0r3C8"
      }
    },
    {
      "cell_type": "code",
      "source": [
        "d = {\"name\": \"Neeraj\", \"age\": 24, \"city\": \"Jaunpur\"}\n",
        "print(d)\n",
        "print(type(d))"
      ],
      "metadata": {
        "colab": {
          "base_uri": "https://localhost:8080/"
        },
        "id": "04gkp1Gmt3kl",
        "outputId": "1f27797e-4e20-4fb9-d541-4fca11df7ee2"
      },
      "execution_count": 53,
      "outputs": [
        {
          "output_type": "stream",
          "name": "stdout",
          "text": [
            "{'name': 'Neeraj', 'age': 24, 'city': 'Jaunpur'}\n",
            "<class 'dict'>\n"
          ]
        }
      ]
    },
    {
      "cell_type": "markdown",
      "source": [
        " 22. Write a code to add a new key-value pair \"country\": \"USA\" to the dictionary {'name': 'John', 'age': 25}.\n"
      ],
      "metadata": {
        "id": "q6nCNmnMr5ut"
      }
    },
    {
      "cell_type": "code",
      "source": [
        "d1 = {\"name\": \"John\", \"age\": 30}\n",
        "print(d1)\n",
        "d1[\"country\"] = \"USA\"\n",
        "print(d1)"
      ],
      "metadata": {
        "colab": {
          "base_uri": "https://localhost:8080/"
        },
        "id": "X78OXIuYuGe1",
        "outputId": "f5ffe267-3686-47b3-b98a-871fc655f940"
      },
      "execution_count": 54,
      "outputs": [
        {
          "output_type": "stream",
          "name": "stdout",
          "text": [
            "{'name': 'John', 'age': 30}\n",
            "{'name': 'John', 'age': 30, 'country': 'USA'}\n"
          ]
        }
      ]
    },
    {
      "cell_type": "markdown",
      "source": [
        " 23. Write a code to access the value associated with the key \"name\" in the dictionary {'name': 'Alice', 'age': 30}.\n"
      ],
      "metadata": {
        "id": "jobZwTaar-fq"
      }
    },
    {
      "cell_type": "code",
      "source": [
        "d2 = {\"name\": \"Alice\", \"age\": 34}\n",
        "print(d2)\n",
        "print(d2[\"name\"])"
      ],
      "metadata": {
        "colab": {
          "base_uri": "https://localhost:8080/"
        },
        "id": "AxBZUWIPuL2W",
        "outputId": "66f392db-043a-4868-d3d9-e0d681a879ba"
      },
      "execution_count": 55,
      "outputs": [
        {
          "output_type": "stream",
          "name": "stdout",
          "text": [
            "{'name': 'Alice', 'age': 34}\n",
            "Alice\n"
          ]
        }
      ]
    },
    {
      "cell_type": "markdown",
      "source": [
        "24. Write a code to remove the key \"age\" from the dictionary {'name': 'Bob', 'age': 22, 'city': 'New York'}.\n"
      ],
      "metadata": {
        "id": "GavpuYbMsC4H"
      }
    },
    {
      "cell_type": "code",
      "source": [
        "d3 = {\"name\": \"Bob\", \"age\": 22, \"city\": \"New York\"}\n",
        "print(d3)\n",
        "d3.pop(\"age\")\n",
        "print(d3)"
      ],
      "metadata": {
        "colab": {
          "base_uri": "https://localhost:8080/"
        },
        "id": "5X56dGxxuRxB",
        "outputId": "dc9fa0b8-1a4d-4e0a-febe-6619298a300c"
      },
      "execution_count": 56,
      "outputs": [
        {
          "output_type": "stream",
          "name": "stdout",
          "text": [
            "{'name': 'Bob', 'age': 22, 'city': 'New York'}\n",
            "{'name': 'Bob', 'city': 'New York'}\n"
          ]
        }
      ]
    },
    {
      "cell_type": "markdown",
      "source": [
        "25. Write a code to check if the key \"city\" exists in the dictionary {'name': 'Alice', 'city': 'Paris'}."
      ],
      "metadata": {
        "id": "y5OJvgXXsR-D"
      }
    },
    {
      "cell_type": "code",
      "source": [
        "d4 = {\"name\": \"Alice\", \"city\": \"Paris\"}\n",
        "for i in d4:\n",
        "    if(i == \"city\"):\n",
        "        print(\"city is present\")"
      ],
      "metadata": {
        "colab": {
          "base_uri": "https://localhost:8080/"
        },
        "id": "B5lHLGI3um2n",
        "outputId": "d82599f8-9be4-4de5-eb60-f81a5fe0d653"
      },
      "execution_count": 57,
      "outputs": [
        {
          "output_type": "stream",
          "name": "stdout",
          "text": [
            "city is present\n"
          ]
        }
      ]
    },
    {
      "cell_type": "markdown",
      "source": [
        "26. Write a code to create a list, a tuple, and a dictionary, and print them all."
      ],
      "metadata": {
        "id": "bpF00hkdsVfZ"
      }
    },
    {
      "cell_type": "code",
      "source": [
        "# List\n",
        "list = [\"Neeraj\", \"2\", 3, 40.1, True, 2+1j]\n",
        "print(list)\n",
        "print(type(list))"
      ],
      "metadata": {
        "colab": {
          "base_uri": "https://localhost:8080/"
        },
        "id": "0v4xNP2RuxW4",
        "outputId": "dbe5827f-1106-4953-f25e-9b3b9dc44dcf"
      },
      "execution_count": 59,
      "outputs": [
        {
          "output_type": "stream",
          "name": "stdout",
          "text": [
            "['Neeraj', '2', 3, 40.1, True, (2+1j)]\n",
            "<class 'list'>\n"
          ]
        }
      ]
    },
    {
      "cell_type": "code",
      "source": [
        "# Tuple\n",
        "tuple = (\"Neeraj\", \"2\", 3, 40.1, True, 2+1j)\n",
        "print(tuple)\n",
        "print(type(tuple))"
      ],
      "metadata": {
        "colab": {
          "base_uri": "https://localhost:8080/"
        },
        "id": "mtHcjTi8uxDu",
        "outputId": "79eef65e-ad3c-43fa-d51d-392f7dfc1634"
      },
      "execution_count": 60,
      "outputs": [
        {
          "output_type": "stream",
          "name": "stdout",
          "text": [
            "('Neeraj', '2', 3, 40.1, True, (2+1j))\n",
            "<class 'tuple'>\n"
          ]
        }
      ]
    },
    {
      "cell_type": "code",
      "source": [
        "# Dictionary\n",
        "dict = {1: \"a\", \"b\": 1, \"c\": True}\n",
        "print(dict)\n",
        "print(type(dict))"
      ],
      "metadata": {
        "colab": {
          "base_uri": "https://localhost:8080/"
        },
        "id": "kne1n0jtuws6",
        "outputId": "d613ba0b-acd7-4d67-bf37-b97a80c14a2e"
      },
      "execution_count": 61,
      "outputs": [
        {
          "output_type": "stream",
          "name": "stdout",
          "text": [
            "{1: 'a', 'b': 1, 'c': True}\n",
            "<class 'dict'>\n"
          ]
        }
      ]
    },
    {
      "cell_type": "markdown",
      "source": [
        "27. Write a code to create a list of 5 random numbers between 1 and 100, sort it in ascending order, and print the result.(replaced)\n"
      ],
      "metadata": {
        "id": "YruWoh7fsa4V"
      }
    },
    {
      "cell_type": "code",
      "source": [
        "l5 = [20, 34, 12, 98, 77]\n",
        "print(l5)\n",
        "l5.sort()\n",
        "print(l5)"
      ],
      "metadata": {
        "colab": {
          "base_uri": "https://localhost:8080/"
        },
        "id": "Ln7xdonZvWdE",
        "outputId": "3adf8bc0-39f2-46af-def4-6e3e7928a9fa"
      },
      "execution_count": 62,
      "outputs": [
        {
          "output_type": "stream",
          "name": "stdout",
          "text": [
            "[20, 34, 12, 98, 77]\n",
            "[12, 20, 34, 77, 98]\n"
          ]
        }
      ]
    },
    {
      "cell_type": "markdown",
      "source": [
        "28. Write a code to create a list with strings and print the element at the third index."
      ],
      "metadata": {
        "id": "3AM8-ngkse-y"
      }
    },
    {
      "cell_type": "code",
      "source": [
        "l6 = [\"apple\", \"neeraj\", \"shukla\", \"mango\", \"tomato\"]\n",
        "print(l6)\n",
        "print(l6[2])"
      ],
      "metadata": {
        "colab": {
          "base_uri": "https://localhost:8080/"
        },
        "id": "-ZBKiykNvbgT",
        "outputId": "6bb8a79d-eca0-478d-a51d-7b443f3b73b0"
      },
      "execution_count": 64,
      "outputs": [
        {
          "output_type": "stream",
          "name": "stdout",
          "text": [
            "['apple', 'neeraj', 'shukla', 'mango', 'tomato']\n",
            "shukla\n"
          ]
        }
      ]
    },
    {
      "cell_type": "markdown",
      "source": [
        "29. Write a code to combine two dictionaries into one and print the result.\n"
      ],
      "metadata": {
        "id": "tynGVdDwsidx"
      }
    },
    {
      "cell_type": "code",
      "source": [
        "d5 = {\"a\": 1, \"b\": 2}\n",
        "d6 = {\"c\": 3, \"d\": 4}\n",
        "print(d5)\n",
        "print(d6)\n",
        "print(d5 | d6)"
      ],
      "metadata": {
        "colab": {
          "base_uri": "https://localhost:8080/"
        },
        "id": "HSujtJLlvhjE",
        "outputId": "b639bcc7-19c3-45c1-9611-1a2ab0543618"
      },
      "execution_count": 65,
      "outputs": [
        {
          "output_type": "stream",
          "name": "stdout",
          "text": [
            "{'a': 1, 'b': 2}\n",
            "{'c': 3, 'd': 4}\n",
            "{'a': 1, 'b': 2, 'c': 3, 'd': 4}\n"
          ]
        }
      ]
    },
    {
      "cell_type": "markdown",
      "source": [
        "30. Write a code to convert a list of strings into a set."
      ],
      "metadata": {
        "id": "TpTug7-7sm9N"
      }
    },
    {
      "cell_type": "code",
      "source": [
        "l6 = [\"apple\", \"neeraj\", \"shukla\", \"mango\", \"tomato\"]\n",
        "print(l6)\n",
        "print(type(l6))\n",
        "s7 = set(l6)\n",
        "print(s7)\n",
        "print(type(s7))"
      ],
      "metadata": {
        "colab": {
          "base_uri": "https://localhost:8080/"
        },
        "id": "52lxI7t7vl0s",
        "outputId": "b138f57b-8973-432b-caab-788072493374"
      },
      "execution_count": 66,
      "outputs": [
        {
          "output_type": "stream",
          "name": "stdout",
          "text": [
            "['apple', 'neeraj', 'shukla', 'mango', 'tomato']\n",
            "<class 'list'>\n",
            "{'mango', 'shukla', 'neeraj', 'tomato', 'apple'}\n",
            "<class 'set'>\n"
          ]
        }
      ]
    }
  ]
}